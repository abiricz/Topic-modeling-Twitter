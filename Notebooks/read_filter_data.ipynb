{
 "cells": [
  {
   "cell_type": "code",
   "execution_count": 1,
   "metadata": {},
   "outputs": [],
   "source": [
    "import pandas as pd\n",
    "import numpy as np\n",
    "import matplotlib.pyplot as plt\n",
    "import nltk\n",
    "import re\n",
    "import json\n",
    "import gzip\n",
    "import csv\n",
    "import io\n",
    "from polyglot.detect import Detector\n",
    "import icu\n",
    "from pprint import pprint"
   ]
  },
  {
   "cell_type": "code",
   "execution_count": 2,
   "metadata": {},
   "outputs": [
    {
     "name": "stdout",
     "output_type": "stream",
     "text": [
      "'Fortunato - 2009 - Community detection in graphs.pdf'\r\n",
      "'Gerlach, Peixoto, Altmann - 2018 - A network approach to topic models.pdf'\r\n",
      " read_filter_data-Copy1.ipynb\r\n",
      " read_filter_data-Copy2.ipynb\r\n",
      " read_filter_data-Copy3.ipynb\r\n",
      " read_filter_data.ipynb\r\n",
      " read_filter_data_saved.ipynb\r\n",
      " testoutput.txt.gz\r\n",
      " Twitter_exercise_solution.ipynb\r\n",
      " twitter_exercises_solution.ipynb\r\n",
      " World_171016_103536_filtered.txt.gz\r\n",
      " World_171016_103536.txt.gz\r\n",
      " World_171016_111937_filtered.txt\r\n",
      " World_171016_111937_filtered.txt.gz\r\n",
      " World_171016_111937.txt.gz\r\n"
     ]
    }
   ],
   "source": [
    "!ls"
   ]
  },
  {
   "cell_type": "markdown",
   "metadata": {},
   "source": [
    "\n",
    "#### Source for reading in the gzipped text file:\n",
    "https://stackoverflow.com/questions/23091770/how-do-you-iterate-through-a-gzipped-carriage-return-file-using-python-2-7\n",
    "\n",
    "https://www.makeuseof.com/tag/json-python-parsing-simple-guide/"
   ]
  },
  {
   "cell_type": "markdown",
   "metadata": {},
   "source": [
    "#### Only reading the file and count its rows: \n",
    "\n",
    "* CPU times: user 1min 8s, sys: 656 ms, total: 1min 9s.\n",
    "* Wall time: <font color='red'>1min 9s</font>, approx. <font color='green'>30 MB/s</font>.\n",
    "\n",
    "        %%time\n",
    "        i=0\n",
    "        with io.TextIOWrapper( io.BufferedReader(gzip.open(filename)) ) as file:\n",
    "            for line in file:\n",
    "                i += 1\n",
    "        file.close()\n",
    "        print(i)\n",
    "\n",
    "\n",
    "#### Reading in compressed zip and parse lines to json\n",
    "\n",
    "* CPU times: user 4min 36s, sys: 886 ms, total: 4min 37s.\n",
    "* Wall time: <font color='red'>4min 37s</font>, approx. <font color='green'>7.5 MB/s</font>.\n",
    "\n",
    "        %%time\n",
    "        with io.TextIOWrapper( io.BufferedReader(gzip.open(filename)) ) as file:\n",
    "            for line in file:\n",
    "                json_parsed = json.loads(line)\n",
    "        file.close()\n",
    "\n",
    "Number of rows: 3.764.667, file size (compressed): 2.0 GB (1.989.239.557 bytes).\n",
    "\n",
    "#### Doing the filtering process and saving back to a compressed text file\n",
    "* Input: World_171016_111937.txt.gz. output: World_171016_111937_filtered.txt.gz.\n",
    "\n",
    "* CPU times: user 6min 36s, sys: 1.12 s, total: 6min 37s.\n",
    "* Wall time: <font color='red'>6min 38s</font>,  approx. <font color='green'>5 MB/s</font>.\n",
    "\n",
    "* Input: number of rows: 3.764.667, file size (compressed): 2.0 GB (1.989.239.557 bytes).\n",
    "* Output: number of rows: 1.588.596, only text kept, file size (compressed): 66.5 MB (66.549.841 bytes).\n",
    "\n",
    "#### Doing the filtering process for all the compressed text files\n",
    "* Input, output: each separate file is read, filtered and then saved to compressed txt.\n",
    "* According to the estimations 1 thread works with a speed of <font color='green'>5 MB/s</font>, so the <b><font color='red'>CPU time required is about 35-40 hours</font></b>.\n",
    "* <b><font color='brown'>4 jupyter kernels are launched with a given range of filenames to work on to speed up the process.</font></b>\n",
    "* <b><font color='purple'>The memory consumption of each kernel is about 100 MB</font></b>!\n",
    "* After the process ended, the CPU time of 1 thread (the first 1-2 hours not shown, because threads had to be rearranged):\n",
    "\n",
    "    * CPU times: user 8h 25min 50s, sys: 1min 47s, total: 8h 27min 37s.\n",
    "    * Wall time: <font color='red'>8h 35min 59s</font>.\n",
    "* Output after merging (wall time: <font color='red'>1h 44min 16s</font>): number of rows: <font color='red'>492.866.843</font>, file size (compressed): 20.7 GB (20.690.310.158 bytes).\n",
    "\n",
    "#### Number of twitter messages to build the network with: <font color='blue'>492.866.843</font>."
   ]
  },
  {
   "cell_type": "markdown",
   "metadata": {},
   "source": [
    "#### Source for language detection:\n",
    "\n",
    "https://stackoverflow.com/questions/39142778/python-how-to-determine-the-language\n",
    "\n",
    "##### Package installation:\n",
    "https://polyglot.readthedocs.io/en/latest/Installation.html\n",
    "\n",
    "#### Removing urls:\n",
    "https://stackoverflow.com/questions/11331982/how-to-remove-any-url-within-a-string-in-python"
   ]
  },
  {
   "cell_type": "code",
   "execution_count": 3,
   "metadata": {},
   "outputs": [],
   "source": [
    "# small file for testing\n",
    "filename = 'World_171016_103536.txt.gz'"
   ]
  },
  {
   "cell_type": "code",
   "execution_count": 4,
   "metadata": {
    "scrolled": false
   },
   "outputs": [
    {
     "name": "stdout",
     "output_type": "stream",
     "text": [
      "CPU times: user 56.9 ms, sys: 375 µs, total: 57.3 ms\n",
      "Wall time: 56.5 ms\n"
     ]
    }
   ],
   "source": [
    "%%time\n",
    "with io.TextIOWrapper( io.BufferedReader(gzip.open(filename)) ) as file:\n",
    "    for line in file:\n",
    "        json_parsed = json.loads(line)\n",
    "file.close()"
   ]
  },
  {
   "cell_type": "code",
   "execution_count": 5,
   "metadata": {
    "scrolled": true
   },
   "outputs": [
    {
     "data": {
      "text/plain": [
       "(str,\n",
       " '다 좋은데, 사무실 들어가다 갑자기 만나 시위대 행진으로 버스가 안다님. 계속 대기중. #경복궁역 https://t.co/dfAjFATB47')"
      ]
     },
     "execution_count": 5,
     "metadata": {},
     "output_type": "execute_result"
    }
   ],
   "source": [
    "tweet = json_parsed['text']\n",
    "type(tweet), tweet"
   ]
  },
  {
   "cell_type": "markdown",
   "metadata": {},
   "source": [
    "#### Filtering out url links from tweets"
   ]
  },
  {
   "cell_type": "code",
   "execution_count": 6,
   "metadata": {},
   "outputs": [
    {
     "data": {
      "text/plain": [
       "'다 좋은데, 사무실 들어가다 갑자기 만나 시위대 행진으로 버스가 안다님. 계속 대기중. #경복궁역 '"
      ]
     },
     "execution_count": 6,
     "metadata": {},
     "output_type": "execute_result"
    }
   ],
   "source": [
    "tweet = re.sub(r'http\\S+', '', tweet)\n",
    "tweet"
   ]
  },
  {
   "cell_type": "code",
   "execution_count": 7,
   "metadata": {},
   "outputs": [
    {
     "name": "stdout",
     "output_type": "stream",
     "text": [
      "name: Korean      code: ko       confidence:  99.0 read bytes:  3676\n",
      "name: un          code: un       confidence:   0.0 read bytes:     0\n",
      "name: un          code: un       confidence:   0.0 read bytes:     0\n"
     ]
    }
   ],
   "source": [
    "for language in Detector(tweet).languages:\n",
    "        print(language)"
   ]
  },
  {
   "cell_type": "code",
   "execution_count": 8,
   "metadata": {
    "scrolled": true
   },
   "outputs": [
    {
     "data": {
      "text/plain": [
       "'ko'"
      ]
     },
     "execution_count": 8,
     "metadata": {},
     "output_type": "execute_result"
    }
   ],
   "source": [
    "str(Detector(tweet).languages[0].locale ) # best guess, if 'un' then unknown"
   ]
  },
  {
   "cell_type": "code",
   "execution_count": 9,
   "metadata": {},
   "outputs": [
    {
     "data": {
      "text/plain": [
       "'ko'"
      ]
     },
     "execution_count": 9,
     "metadata": {},
     "output_type": "execute_result"
    }
   ],
   "source": [
    "json_parsed['lang'] # this info comes from the tweet"
   ]
  },
  {
   "cell_type": "code",
   "execution_count": 10,
   "metadata": {
    "scrolled": true
   },
   "outputs": [
    {
     "data": {
      "text/plain": [
       "99.0"
      ]
     },
     "execution_count": 10,
     "metadata": {},
     "output_type": "execute_result"
    }
   ],
   "source": [
    "Detector(tweet).languages[0].confidence # confidence of best guess"
   ]
  },
  {
   "cell_type": "markdown",
   "metadata": {},
   "source": [
    "#### Removing retweets\n",
    "https://developer.twitter.com/en/docs/tweets/data-dictionary/overview/tweet-object\n",
    "\"Users can amplify the broadcast of Tweets authored by other users by retweeting . Retweets can be distinguished from typical Tweets by the existence of a <font color='red'>retweeted_status</font> attribute. This attribute contains a representation of the original Tweet that was retweeted. Note that retweets of retweets do not show representations of the intermediary retweet, but only the original Tweet. (Users can also unretweet a retweet they created by deleting their retweet.)\""
   ]
  },
  {
   "cell_type": "code",
   "execution_count": 11,
   "metadata": {},
   "outputs": [
    {
     "data": {
      "text/plain": [
       "True"
      ]
     },
     "execution_count": 11,
     "metadata": {},
     "output_type": "execute_result"
    }
   ],
   "source": [
    "'retweeted_status' not in list(json_parsed.keys()) # indicator if tweet is a retweet"
   ]
  },
  {
   "cell_type": "markdown",
   "metadata": {},
   "source": [
    "### Up-scale the filtering process to be able to work with large files"
   ]
  },
  {
   "cell_type": "code",
   "execution_count": 12,
   "metadata": {},
   "outputs": [],
   "source": [
    "def language_detector(text):\n",
    "    '''Returns language type as string or 'un' if unknown.'''\n",
    "    try:\n",
    "        polyglot = Detector(text).languages[0]\n",
    "        if polyglot.confidence > 50: # threshold for detecting languages\n",
    "            lang = str(polyglot.locale)\n",
    "        else:\n",
    "            lang = 'un'\n",
    "    except Exception as e:\n",
    "        print(\"Error: \" + str(e))\n",
    "        lang = 'un' # if error occurs during conversion language is unknown\n",
    "    return lang"
   ]
  },
  {
   "cell_type": "code",
   "execution_count": 13,
   "metadata": {},
   "outputs": [],
   "source": [
    "def English_language_filtering( json_parsed ):\n",
    "    if (json_parsed['lang'] == 'en'): # tweet is in English so nothing need to be done here\n",
    "        return True\n",
    "    else:\n",
    "        text = json_parsed['text'] # get text of tweet\n",
    "        text = re.sub(r'http\\S+', '', text) # get rid of http links\n",
    "        \n",
    "        lang = language_detector(text)\n",
    "        \n",
    "        if( lang == 'en' ):\n",
    "            return True\n",
    "        else:\n",
    "            return False"
   ]
  },
  {
   "cell_type": "code",
   "execution_count": 14,
   "metadata": {},
   "outputs": [
    {
     "name": "stdout",
     "output_type": "stream",
     "text": [
      "CPU times: user 55.8 ms, sys: 6.6 ms, total: 62.4 ms\n",
      "Wall time: 63.5 ms\n"
     ]
    }
   ],
   "source": [
    "%%time\n",
    "#i=0\n",
    "file_out = gzip.open('testoutput.txt.gz', mode='wb')\n",
    "\n",
    "with io.TextIOWrapper( io.BufferedReader(gzip.open(filename)) ) as file_in:\n",
    "    for line in file_in: # read one line at a time from a compressed file\n",
    "        json_parsed = json.loads(line) # parse only that one line to json\n",
    "        lang_bool = English_language_filtering(json_parsed) # True: English, False: not English\n",
    "        retweet_bool = 'retweeted_status' not in list(json_parsed.keys()) # True: not retweet, False: retweet\n",
    "        if lang_bool == True and retweet_bool: # if conditions are met write to file\n",
    "            file_out.write( json.dumps( {'text': json_parsed['text']} ).encode() ) # write dict to file\n",
    "            file_out.write( '\\n'.encode() ) # write a newline char to the end\n",
    "            #print(i, json_parsed['text'], '\\n')\n",
    "file_in.close()\n",
    "file_out.close()"
   ]
  },
  {
   "cell_type": "code",
   "execution_count": 15,
   "metadata": {},
   "outputs": [
    {
     "name": "stdout",
     "output_type": "stream",
     "text": [
      "'Fortunato - 2009 - Community detection in graphs.pdf'\r\n",
      "'Gerlach, Peixoto, Altmann - 2018 - A network approach to topic models.pdf'\r\n",
      " read_filter_data-Copy1.ipynb\r\n",
      " read_filter_data-Copy2.ipynb\r\n",
      " read_filter_data-Copy3.ipynb\r\n",
      " read_filter_data.ipynb\r\n",
      " read_filter_data_saved.ipynb\r\n",
      " testoutput.txt.gz\r\n",
      " Twitter_exercise_solution.ipynb\r\n",
      " twitter_exercises_solution.ipynb\r\n",
      " World_171016_103536_filtered.txt.gz\r\n",
      " World_171016_103536.txt.gz\r\n",
      " World_171016_111937_filtered.txt\r\n",
      " World_171016_111937_filtered.txt.gz\r\n",
      " World_171016_111937.txt.gz\r\n"
     ]
    }
   ],
   "source": [
    "!ls"
   ]
  },
  {
   "cell_type": "markdown",
   "metadata": {},
   "source": [
    "#### Check if file is correctly written"
   ]
  },
  {
   "cell_type": "code",
   "execution_count": 16,
   "metadata": {
    "scrolled": true
   },
   "outputs": [
    {
     "name": "stdout",
     "output_type": "stream",
     "text": [
      "{'text': 'Pray for Somali'}\n",
      "{'text': 'Corrupted\\nAlerta Rojo Tee\\nTag: Fotl Heavy Cotton\\nOnly 1 Small size left at jakarta store\\nIDR… https://t.co/JAoznm9MzM'}\n",
      "{'text': 'temperature down 69°F -&gt; 65°F\\nhumidity down 88% -&gt; 82%\\nwind 7mph -&gt; 10mph'}\n",
      "{'text': \"With all due respect Your Holiness; don't support #GMOs. #LeptisMagna in #Libya was the breadbasket for #Europe. Lo… https://t.co/zwTYvJu0As\"}\n",
      "{'text': \"@Miss_Sashi @EthanVanSciver Sadly, no. It's to the tune of the chant for the NHL's Arizona Coyotes\"}\n",
      "{'text': 'Wah, lidah please👍 https://t.co/vBMDTYWlGw'}\n",
      "{'text': \"I've got a hole in my life that only a dog can fill :(\"}\n",
      "{'text': 'Lamb heart-Organ donation from my meal @alchemistcph with girlloveschefs the other night. A very… https://t.co/eyaMzYiBJL'}\n",
      "{'text': 'Quality Street®, @qualitystreetuk is now trending in United Kingdom\\n\\nhttps://t.co/iz28l4ll2U https://t.co/NkMA7iOK50'}\n",
      "{'text': '@adamziek VERY distracting!'}\n",
      "{'text': \"@Frank_Monkey @Tam83610981 @JORISLUIJENDIJK Think of it this way - farmers know a lot about cows, but that doesn't… https://t.co/o7F5n66FA2\"}\n",
      "{'text': 'Wow I fucking hate people.. stg'}\n",
      "{'text': 'someone said \"have you never heard of getting you phone taken away\" as if that\\'s a real punishment https://t.co/KgbpEZbWVc'}\n",
      "{'text': \"#MeToo Aged 17/18, 2nd day of new job, 65 yo boss cornered &amp; kissed me forcefully, wife in next room. Said 'We all do this in show business'\"}\n",
      "{'text': 'Crazy good acting https://t.co/al7elgEbT0'}\n",
      "{'text': '@NewshubNZ FFS, leave the man alone.'}\n",
      "{'text': 'HBD 2 @Papjay007 may God bless ur new age and the ages to follow-🎂🎂🎂🍺🍷🍹🍾🍼'}\n",
      "{'text': 'Today at @BermondseySq @mmStreetCart @urban_yak @ilpeperoneoli &amp; #streetdots newbies @manjula #vegan'}\n",
      "{'text': 'You are my sunshine ohh ohh\\n\\n#BTOB_Brother_Act'}\n",
      "{'text': 'Due to Storm #Ophelia, the GAA Museum and all #EricssonSkyline and #CrokeParkTours have been cancelled today, Monda… https://t.co/EvzXHSe36h'}\n",
      "{'text': \"Me when I'm falling asleep in clasa https://t.co/e8Y634FuAg\"}\n",
      "{'text': '@JessicaLexicus \"my,what big eyes you have\"...\"all the better to mesmerise you with\"'}\n",
      "{'text': 'Look at this on eBay  https://t.co/F35YL6PXoz'}\n",
      "{'text': 'near blender: b27a8dd7-921a-44be-8ce6-68be624c6a94'}\n",
      "{'text': '@clemmiegirl75 \"REMEMBER TO WASH YOUR HANDS\" by any chance? \\U0001f928'}\n",
      "{'text': '11 hours felt like nothing with you, I’m defs gunna miss you when you leave😞 Nights like these are what I’m gunna remember!'}\n",
      "{'text': 'Hehe Val cried https://t.co/oOoN8Z8leg'}\n",
      "{'text': 'Facts 💁🏾\\u200d♂️ https://t.co/OjGKwEIGfH'}\n",
      "{'text': '@Jeunessima thanks for following me'}\n",
      "{'text': 'This is one hell of a gift to walk in on. #cigar @ Sports Radio WNML https://t.co/Pz4hr8WzOf'}\n",
      "{'text': 'Lily maymac https://t.co/86C1RZZDT0'}\n",
      "{'text': '2+2 is 4 minus 1 thats 3 quick maths'}\n",
      "{'text': 'Patiently waiting on chick fil a to open'}\n",
      "{'text': \"I've always said, anyone I lay down with has a potential of being a father to my children... I have certain expectations in that situation..\"}\n",
      "{'text': '10pcs Canon NEW Snap On Lens Cap 77mm Cover protector for EF EFS EF-M Lens\\nhttps://t.co/YPH1SXCszk'}\n",
      "{'text': '@BobWood82246359 thank you for your service May the blessings of Psalm 91 be upon you always in the Mighty Name of Jesus.'}\n",
      "{'text': '@LynnGerrard thank you. I try.'}\n",
      "{'text': 'the hardest part is always saying good bye'}\n",
      "{'text': \"@guardian Anyone with half a brain considered the #Brexit politicians' negotiating ability when choosing which side to vote for...\"}\n",
      "{'text': \"How can Season 2 of @dissectpodcast ever be topped? It's a classic.\"}\n",
      "{'text': '\"Here are the 10 Best Oyster Happy Hours in New Orleans\" https://t.co/2Q8LTXygoR #food'}\n",
      "{'text': 'actual heartbreak is leaving your boyfriend all cozy in your bed while you go to work'}\n",
      "{'text': 'Hawai‘i Belly Dance Convention VIP AFTER PARTY ♥️ https://t.co/SGLppQ0YJx'}\n",
      "{'text': 'The view from tatemodern_official #london #londonwalks #stpaul #milleniumbridge @londongramer @… https://t.co/PiVxXEDGJq'}\n",
      "{'text': 'MY HEART!!!!!!!!!!!!!!!!!!! https://t.co/JhXuWM8Fxh'}\n",
      "{'text': '@tessahilll bio is everything. #GEMINIS'}\n",
      "{'text': 'Action expected on early #GCSE entry in #Wales https://t.co/cogAp0pgaR @newnewspage'}\n",
      "{'text': 'Squirrel #PhotoOfTheNight #dailyphoto #statecollege https://t.co/nS9r9Z3bVM'}\n",
      "{'text': 'I had a girlfriend in Uni called Ophelia. Hot but bonkers and late night stalker How does this bloke know about tha… https://t.co/M94HdqDXno'}\n",
      "{'text': \"I'm at KKH Women's Tower in Singapore https://t.co/BjkAoTuJAR\"}\n",
      "{'text': '@githaka_ A pilot program was carried out in Machakos for a while. N.O didn’t just wake up and decide to make cooking gas affordable'}\n",
      "{'text': 'So so sad https://t.co/AZ5cFZLXsf'}\n",
      "{'text': 'Army makes bulletproof plan for border with modular bunkers   https://t.co/CELPxX3BZq'}\n",
      "{'text': \"@tim_weber @davidwebster @Paulwiltshire @UoGposi I'm not entirely sure why really. Might take some more thought.\"}\n",
      "{'text': 'h8 this app😭 https://t.co/rmPLlFFRGn'}\n",
      "{'text': '@MartinBester hi Martin, just wondering if you have received my mail last week? Kind regards, Willie'}\n",
      "{'text': '#SrinivasaReddy Funny Comedy Scenes #TFCComedy\\nFor More Comedy Scenes Subscribe►https://t.co/w85cfVTfYE'}\n",
      "{'text': 'Within a body, in a bus, inside a boat, on the ocean, on a planet, in a galaxy, far far away... (FYI crossing the British channel to France)'}\n",
      "{'text': 'Me all the time: 😂😂😂 https://t.co/0cI0FRzw0k'}\n",
      "{'text': 'interviewer: so did you have far to travel to get in today?\\n\\nme: https://t.co/9pwSq45PDe'}\n",
      "{'text': 'I’m always living in my head and I can’t remember when I last felt alive'}\n",
      "{'text': 'Whoever vandalised our street flower bed last night: we are a small charity &amp; you are a loser #SE1 @MenierGallery… https://t.co/u1wkpaw3SW'}\n",
      "{'text': '@Jonnypeg89 @SkySportsStatto @SkySportsPL @SouthamptonFC Cry more x'}\n",
      "{'text': '6 meses bby ❣️ https://t.co/lG9moJyUXS'}\n",
      "{'text': '@KirkDBorne @joshdsullivan @AngelaZutavern It’s a great review, but it’s not mine. I just agreed with it and retwee… https://t.co/TBh3eSSqk7'}\n",
      "{'text': \"Bob Weinstein says 'sick and depraved' brother Harvey Weinstein abused him https://t.co/mn03acBJSA via @GMA @toddeherman @tomborelli\"}\n",
      "{'text': '@idinfendi MASTER DIN YOU THE MAN'}\n",
      "{'text': '@anupmajaisbjp have a good day mam'}\n",
      "{'text': \"started up with nothing now I'm all grown up 💯\"}\n",
      "{'text': 'Do not let your past mistakes define you!'}\n",
      "{'text': '10pcs Canon NEW Snap On Lens Cap 55mm Cover protector for EF EFS EF-M Lens\\nhttps://t.co/O5I3lzFeUw'}\n",
      "{'text': 'Half Yearly Sales Meeting https://t.co/BJds23R3ng'}\n",
      "{'text': \"'SILENCE'\\n\\n#Travel #Sea #Beach #Nature #Holland #Wadden #Texel #Silence #Reflection @… https://t.co/j3q36gGH07\"}\n",
      "{'text': 'For anyone interested in where Labour stands on Brexit, this is very good.\\nIf you just want to slag off Labour, I s… https://t.co/yzplzd7Gft'}\n",
      "{'text': \"That's just what I did...I added dress..😂😂 https://t.co/lHw500JdRl\"}\n",
      "{'text': \"According to the #MetOffice we've got 75% humidity in North Wales today! Certainly feels muggy out!\"}\n",
      "{'text': 'Comfort zone....at my go-to barbershop! @ Kingsman Barber Shop https://t.co/TR9azulVCx'}\n",
      "{'text': \"3 out of 6 boys in dbs class A. 2 years and a half together in Segamat, and that's not enough… https://t.co/rGeFsG19FZ\"}\n",
      "{'text': 'Sitting here watching my all time fave series. Still wish it didn’t have to end 😭 @TrueBloodHBO 💉'}\n",
      "{'text': \"@JoshuaEmiabata @DuplexBoiz competition runs every week, You'll find out when the week is out. Terms and Conditions apply.\"}\n",
      "{'text': 'Just checked weather, it looks like storm hitting Ireland about now &amp; SW coast of England &amp; Wales shortly, Scotland may escape the worst #uk'}\n",
      "{'text': 'Seriously. https://t.co/6DCKso54Be'}\n",
      "{'text': 'Beamers and more beamers'}\n",
      "{'text': 'fuck it i’m not going to sleep tm'}\n",
      "{'text': \"It's amazing that Anglophilia is so rife in the US when we dumped @JKCorden and @piersmorgan on them\"}\n",
      "{'text': 'No mom, you’re not going to do anything today. Sit here and pet me. #catsofinstagram #CatsOfTwitter #theosemcat https://t.co/0ZlL8kBn4A'}\n",
      "{'text': '#GNHDemoDay Live on Facebook now - https://t.co/0pB26swpTz https://t.co/caXdHAzGCZ'}\n",
      "{'text': 'Baked Creamy Cheesy Penne for lunch 😊 (@ Banapple Pies &amp; Cheesecakes - @banapplekitchen) https://t.co/NjG8eWRXLA'}\n",
      "{'text': 'Can’t believe I woke up for work'}\n",
      "{'text': 'Well then https://t.co/sqpzAn0TnZ'}\n",
      "{'text': '‘Hello sexy pshhhhh’ yeh maybe this is what a need first thing in a morning bye freak'}\n",
      "{'text': \"'Develop a deeper sense of personhood, responsible to humanity as a whole'@ChetanBhatt1962 @BonyaAhmed @UNSRCulture https://t.co/PZ4BqswQkF?\"}\n",
      "{'text': '@Dan_Soff Yeah I think so. It couldnt be the other way around. But the reason nobody is naming names is gag orders.… https://t.co/wLJp8HhyeB'}\n",
      "{'text': 'That fuckin boy could kiss ...'}\n",
      "{'text': 'No ass whooping look good on camera. https://t.co/QoiekZCKGS'}\n",
      "{'text': 'I know my part I play my role I wasn’t slippin baby💯👌🏾'}\n",
      "{'text': '#CPTTraffic Du toits Kloof Pass is closed to traffic for the recovery of the truck that left the Mountain side yesterday'}\n",
      "{'text': 'With UFC champ Frank Mir!! Great fighter and an event better comic...you killed sir! No pun… https://t.co/JxNudutLB8'}\n",
      "{'text': 'pathetic'}\n",
      "{'text': 'Cut off point to order tics is 18:00,to collect in munchen,last chance to join 1000 @celticfc fans party,… https://t.co/mdpZhBScKB'}\n",
      "{'text': 'Just posted a photo @ The Bunch Of Grapes Inn https://t.co/5jbbOiUIcA'}\n",
      "{'text': 'Yes, Evan is the hottest Vet ever❤️ https://t.co/fzSdIieb3F'}\n",
      "{'text': '@andysflower11 Who said I was talking to you 🙄'}\n",
      "{'text': 'Lol I saw this coming, check my other tweet... society is inclusive of professionals... I don’t know why you want t… https://t.co/PNb0l7xrBx'}\n",
      "{'text': 'Phuket central hospital is top notch. Great paediatric Centre!'}\n",
      "{'text': '@tokstarr @937RhythmFm Am on!'}\n",
      "{'text': '\"Just like a slide, life has many ups and downs. Sometimes you halt… https://t.co/btrqZna6oN'}\n",
      "{'text': 'For anyone with tickets to Miss Saigon tonight. Thanks for the response @BGETheatre. Your turn @aikenpromotions https://t.co/z9qGz1MBfP'}\n",
      "{'text': 'Stranger things on Netflix reminds me of a very long goosebumps episode 🔥'}\n",
      "{'text': 'Breakfast of champions... #HunterSThompson https://t.co/Qwh4GUmUr1'}\n",
      "{'text': \"today/tonight has been so lit!!!! I've met so many incredible people 😭🙏🏻💞\"}\n",
      "{'text': '@RGWeek2017 Please help me, my pal @roryfitz15 FORCED me to put on a EW L15 on a Monday in Class 5 handicaps. He needs containing. Plz.'}\n",
      "{'text': 'Not a bad day so far. Bit breezy. #Opheila https://t.co/DWq4Kyv0ri'}\n",
      "{'text': 'The benefits of being a #cyclefriendly employer - for a healthy, proactive &amp; creative team https://t.co/fzmZ8uK1Td #sustainability @sustrans'}\n",
      "{'text': '@ohshawwty Let him be smh'}\n",
      "{'text': '@castlelitesa  good morning. Can you please follow back or provide contact details. Need to send you a DM.'}\n",
      "{'text': 'Why is no one stopping to help the poor girl lying on the road? 😤 https://t.co/SjQeGrvPFY'}\n",
      "{'text': 'Bloody dramatic https://t.co/GKfNMRjIg1'}\n",
      "{'text': '@kurosakirans @VictoryPencil @SilentChikage AND THIS IS AN EVEN MORE RECENT PIC OF HIM I CANT WAIT TO HAVE HIM https://t.co/AzeKaLZwn0'}\n",
      "{'text': 'A woman has to live her life, or live to repent not having lived it. \\nHappyPANniversary KISSWARD'}\n",
      "{'text': '10pcs Canon NEW Snap On Lens Cap 52mm Cover protector for EF EFS EF-M Lens\\nhttps://t.co/vCeOxx6HDo'}\n",
      "{'text': '@katyperry For your Super Special Magical..=-)..\"Bon Appetit\" Song And Video..=-)..Now Having 352 Million Views And… https://t.co/0xvZmXo6Jk'}\n",
      "{'text': 'Hello 💕'}\n",
      "{'text': 'ME LOL https://t.co/aqA8CpCy6D'}\n",
      "{'text': \"I'm at SMRT Buses: Bus 180 in Singapore https://t.co/mQb01TAuTr\"}\n",
      "{'text': '@iveelee97 🤔🤔🤔 this might be true. This is definitely mind boggling. https://t.co/pw9RbOyKYF'}\n",
      "{'text': 'With emil, Gembul, and Gemmy at @kai121 [pic] — https://t.co/UBcCdGTpwZ'}\n",
      "{'text': 'it’s the little things that make me happy'}\n",
      "{'text': 'Federal Bank Q2 beats estimates, profit up 31%; net NPA falls to 1.32%\\nhttps://t.co/44oIQQbkgC https://t.co/eGYd3KWc22'}\n",
      "{'text': '@crismercs11 YOUR HEADER IS SO CUTE IM CRYING'}\n",
      "{'text': 'Journals ❤️❤️❤️❤️\\n\\nhttps://t.co/7liedGw8uO'}\n",
      "{'text': 'Stop looking for reasons that make you unhappy ❌✨'}\n",
      "{'text': 'Just doin my thang'}\n",
      "{'text': 'king https://t.co/Y72ZlTIUAA'}\n",
      "{'text': 'Tomorrow’s #viticulture is already being rolled out at #DomaineduChapitre in #Languedoc\\n\\nhttps://t.co/CkSMk2H2Bf https://t.co/jvsXD8Zbzm'}\n",
      "{'text': '#UNIVERSITIESABROADREP Bukoba - Mwanza just now!!! https://t.co/odUQbUhV3X'}\n",
      "{'text': '@YTMusicVideos  JAMOW - Last Ditch \\nWatch Vide Here  https://t.co/pKtd2DCmzF\\n#jamow #lastditch #youtube'}\n",
      "{'text': 'Madame Deficit'}\n",
      "{'text': 'Please.'}\n",
      "{'text': 'Not sure if a 6km walk after yesterday ride was one my better ideas, but at least I got to see… https://t.co/F85sKeZl0Y'}\n",
      "{'text': 'Absolutely https://t.co/aHLk4gyNm3'}\n",
      "{'text': 'babe time 😘 https://t.co/Hm3zFVzSl1'}\n",
      "{'text': 'Heart broken https://t.co/N1zQNRRHmC'}\n",
      "{'text': '@wolfman_Bloody2 @NUAZ1LGlhfit3Gp @malekalby @227eada8efa54eb @1Ma42 @KaeDalious @perryd43 @zerok_z @Sylpete… https://t.co/6zIF1SR1LU'}\n",
      "{'text': '@InesODonovan thanks for following me'}\n",
      "{'text': 'Cannot sleep 😒'}\n",
      "{'text': 'When so many people go hungry it is criminal to waste the food that one has on their plate. #NoWasteOnMyPlate'}\n",
      "{'text': \"Get the game plan ready and then it's time for the execution...\"}\n",
      "{'text': \"I'm at Spardorf in Bavaria https://t.co/wRuUWRrayF\"}\n",
      "{'text': 'Wales drop down one place (14), England move up three places (12). #FIFARankings'}\n",
      "{'text': '@liltraina98 Is an amazing person and I want to thank him for always being there for me and being nice to me'}\n",
      "{'text': '#aboutlastnight at Epe Resort, the WEEKEND was on a whole new level. When BARBEQUE mixed with… https://t.co/3IfgsK3U3J'}\n",
      "{'text': '@PostNL Hello!    RN35 8136 985GB  has been delayed a lot, you told me that you have sent it back to UK, but it is not true'}\n",
      "{'text': '@DhingraSadhana @madhukishwar No nt true.Ds thinking dt al religion equal, is Dhimmi attitude lyk a coward n proverbial Ostrich.'}\n",
      "{'text': \"Kar wants to sleep over samin on Saturday. She'll see the mess our house is in and the mess my life is in. 😬\\nI hope nothing happens.\"}\n",
      "{'text': '@Ayo_GT That’s fine. Send them my way because haters just gon hate 💁🏻'}\n",
      "{'text': '#Nissan #SanMarcos is #nowplaying Feelin’ It by #ScottyMcCreery #cubevenue'}\n",
      "{'text': 'With Shafira at @bormatoserba — https://t.co/b9hQNmE76N'}\n",
      "{'text': 'Lungiswa gave us a one hit wonder 😭😭 https://t.co/V6Gk78nKTB'}\n",
      "{'text': 'I have so much faith in u now!! u jave a good ear fam👊🏽👊🏽👊🏽 https://t.co/CTamXp2KlV'}\n",
      "{'text': 'don’t involve us in your problems https://t.co/nyn6tHIkLA'}\n",
      "{'text': '@Africa_Conf Welcome and thanks for the follow!'}\n",
      "{'text': '@DilKhosa We have the same header!! 😁I have \"creative\" and you have \"content\" though! #mipcom'}\n",
      "{'text': 'Kremlin Troll Tells All About Influencing U.S. Elections: https://t.co/DfOp6BxWVE'}\n",
      "{'text': '2 x front body Cap for Olympus Lumix Micro 4/3 M4/3 Mount Camera EP EM GF GH\\nhttps://t.co/bdAdFYCZcH'}\n",
      "{'text': \"I've never had sex in a car 🙂\"}\n",
      "{'text': '@videos_you_tube  JAMOW - Last Ditch   \\nWatch Vide Here  https://t.co/pKtd2DCmzF\\n#jamow #lastditch #youtube'}\n",
      "{'text': '@KotaTheFriend happy birthday love'}\n",
      "{'text': 'Wtf is a curious cat... yikes 🙃 https://t.co/4DY31ggTcU'}\n",
      "{'text': 'On #WorldFoodDay where is Gaurakshak now?\\n\\nAnd what is BMC doing? is this what called Vikas?\\n\\n#NoWasteOnMyPlate https://t.co/3xCFWr4tx7'}\n"
     ]
    }
   ],
   "source": [
    "with io.TextIOWrapper( io.BufferedReader(gzip.open('testoutput.txt.gz')) ) as file_in:\n",
    "    for line in file_in: # read one line at a time from a compressed file\n",
    "        print(json.loads(line)) # parse only that one line to json"
   ]
  },
  {
   "cell_type": "markdown",
   "metadata": {},
   "source": [
    "### Up-scale I/O operations"
   ]
  },
  {
   "cell_type": "code",
   "execution_count": 17,
   "metadata": {},
   "outputs": [],
   "source": [
    "def do_filtering( filename_in, filename_out ):\n",
    "    #filename_out = filename_in[:-7]+'_filtered.txt.gz'\n",
    "    print('Input:', filename_in, '\\t', 'Output:', filename_out)\n",
    "    file_out = gzip.open(filename_out, mode='wb')\n",
    "\n",
    "    with io.TextIOWrapper( io.BufferedReader(gzip.open(filename_in)) ) as file_in:\n",
    "        for line in file_in: # read one line at a time from a compressed file\n",
    "            json_parsed = json.loads(line) # parse only that one line to json\n",
    "            lang_bool = English_language_filtering(json_parsed) # True: English, False: not English\n",
    "            retweet_bool = 'retweeted_status' not in list(json_parsed.keys()) # True: not retweet, False: retweet\n",
    "            if lang_bool == True and retweet_bool: # if conditions are met write to file\n",
    "                file_out.write( json.dumps( {'text': json_parsed['text']} ).encode() ) # write dict to file\n",
    "                file_out.write( '\\n'.encode() ) # write a newline char to the end\n",
    "                #print(i, json_parsed['text'], '\\n')\n",
    "    file_in.close()\n",
    "    file_out.close()"
   ]
  },
  {
   "cell_type": "markdown",
   "metadata": {},
   "source": [
    "### Getting all file names in the directory"
   ]
  },
  {
   "cell_type": "code",
   "execution_count": 18,
   "metadata": {},
   "outputs": [],
   "source": [
    "from os import listdir\n",
    "from os.path import isfile, join"
   ]
  },
  {
   "cell_type": "code",
   "execution_count": 19,
   "metadata": {},
   "outputs": [],
   "source": [
    "dir_path = '/media/abiricz/Elements/twitter/data/'\n",
    "target_path = '/media/abiricz/Elements/twitter/filtered/'\n",
    "dir_files = [f for f in listdir(dir_path)]"
   ]
  },
  {
   "cell_type": "code",
   "execution_count": 20,
   "metadata": {},
   "outputs": [
    {
     "data": {
      "text/plain": [
       "(3595,\n",
       " ['World_171016_103536.txt.gz',\n",
       "  'World_171016_104514.txt.gz',\n",
       "  'World_171016_104518.txt.gz'])"
      ]
     },
     "execution_count": 20,
     "metadata": {},
     "output_type": "execute_result"
    }
   ],
   "source": [
    "len(dir_files), dir_files[0:3]"
   ]
  },
  {
   "cell_type": "code",
   "execution_count": 29,
   "metadata": {},
   "outputs": [
    {
     "data": {
      "text/plain": [
       "('World_180111_184722.txt.gz', 'World_180818_145807.txt.gz')"
      ]
     },
     "execution_count": 29,
     "metadata": {},
     "output_type": "execute_result"
    }
   ],
   "source": [
    "dir_files[130], dir_files[899]"
   ]
  },
  {
   "cell_type": "code",
   "execution_count": 30,
   "metadata": {},
   "outputs": [],
   "source": [
    "a = 30\n",
    "b = 130"
   ]
  },
  {
   "cell_type": "code",
   "execution_count": 31,
   "metadata": {
    "scrolled": true
   },
   "outputs": [
    {
     "name": "stdout",
     "output_type": "stream",
     "text": [
      "Currently working on: World_171107_135932.txt.gz\n",
      "Input: /media/abiricz/Elements/twitter/data/World_171107_135932.txt.gz \t Output: /media/abiricz/Elements/twitter/filtered/World_171107_135932_filtered.txt.gz\n",
      "CPU times: user 3min 5s, sys: 576 ms, total: 3min 6s\n",
      "Wall time: 3min 7s\n",
      "Currently working on: World_171107_235214.txt.gz\n",
      "Input: /media/abiricz/Elements/twitter/data/World_171107_235214.txt.gz \t Output: /media/abiricz/Elements/twitter/filtered/World_171107_235214_filtered.txt.gz\n",
      "CPU times: user 7min 5s, sys: 1.49 s, total: 7min 6s\n",
      "Wall time: 7min 11s\n",
      "Currently working on: World_171108_235214.txt.gz\n",
      "Input: /media/abiricz/Elements/twitter/data/World_171108_235214.txt.gz \t Output: /media/abiricz/Elements/twitter/filtered/World_171108_235214_filtered.txt.gz\n",
      "CPU times: user 1.62 s, sys: 7.98 ms, total: 1.63 s\n",
      "Wall time: 1.67 s\n",
      "Currently working on: World_171108_235720.txt.gz\n",
      "Input: /media/abiricz/Elements/twitter/data/World_171108_235720.txt.gz \t Output: /media/abiricz/Elements/twitter/filtered/World_171108_235720_filtered.txt.gz\n",
      "CPU times: user 3.61 s, sys: 27.9 ms, total: 3.64 s\n",
      "Wall time: 3.73 s\n",
      "Currently working on: World_171109_000813.txt.gz\n",
      "Input: /media/abiricz/Elements/twitter/data/World_171109_000813.txt.gz \t Output: /media/abiricz/Elements/twitter/filtered/World_171109_000813_filtered.txt.gz\n",
      "CPU times: user 8.95 s, sys: 28 ms, total: 8.98 s\n",
      "Wall time: 9.05 s\n",
      "Currently working on: World_171109_003526.txt.gz\n",
      "Input: /media/abiricz/Elements/twitter/data/World_171109_003526.txt.gz \t Output: /media/abiricz/Elements/twitter/filtered/World_171109_003526_filtered.txt.gz\n",
      "CPU times: user 6min 59s, sys: 1.63 s, total: 7min 1s\n",
      "Wall time: 7min 10s\n",
      "Currently working on: World_171110_003526.txt.gz\n",
      "Input: /media/abiricz/Elements/twitter/data/World_171110_003526.txt.gz \t Output: /media/abiricz/Elements/twitter/filtered/World_171110_003526_filtered.txt.gz\n",
      "CPU times: user 6min 55s, sys: 1.56 s, total: 6min 56s\n",
      "Wall time: 7min 5s\n",
      "Currently working on: World_171111_003526.txt.gz\n",
      "Input: /media/abiricz/Elements/twitter/data/World_171111_003526.txt.gz \t Output: /media/abiricz/Elements/twitter/filtered/World_171111_003526_filtered.txt.gz\n",
      "CPU times: user 6min 46s, sys: 1.49 s, total: 6min 47s\n",
      "Wall time: 6min 56s\n",
      "Currently working on: World_171112_003526.txt.gz\n",
      "Input: /media/abiricz/Elements/twitter/data/World_171112_003526.txt.gz \t Output: /media/abiricz/Elements/twitter/filtered/World_171112_003526_filtered.txt.gz\n",
      "CPU times: user 6min 45s, sys: 1.53 s, total: 6min 47s\n",
      "Wall time: 6min 55s\n",
      "Currently working on: World_171113_003526.txt.gz\n",
      "Input: /media/abiricz/Elements/twitter/data/World_171113_003526.txt.gz \t Output: /media/abiricz/Elements/twitter/filtered/World_171113_003526_filtered.txt.gz\n",
      "CPU times: user 6min 56s, sys: 1.51 s, total: 6min 58s\n",
      "Wall time: 7min 6s\n",
      "Currently working on: World_171114_003526.txt.gz\n",
      "Input: /media/abiricz/Elements/twitter/data/World_171114_003526.txt.gz \t Output: /media/abiricz/Elements/twitter/filtered/World_171114_003526_filtered.txt.gz\n",
      "CPU times: user 6min 49s, sys: 1.43 s, total: 6min 50s\n",
      "Wall time: 7min 1s\n",
      "Currently working on: World_171115_003526.txt.gz\n",
      "Input: /media/abiricz/Elements/twitter/data/World_171115_003526.txt.gz \t Output: /media/abiricz/Elements/twitter/filtered/World_171115_003526_filtered.txt.gz\n",
      "CPU times: user 6min 48s, sys: 1.54 s, total: 6min 50s\n",
      "Wall time: 6min 58s\n",
      "Currently working on: World_171117_003527.txt.gz\n",
      "Input: /media/abiricz/Elements/twitter/data/World_171117_003527.txt.gz \t Output: /media/abiricz/Elements/twitter/filtered/World_171117_003527_filtered.txt.gz\n",
      "CPU times: user 6min 5s, sys: 1.43 s, total: 6min 7s\n",
      "Wall time: 6min 15s\n",
      "Currently working on: World_171117_205234.txt.gz\n",
      "Input: /media/abiricz/Elements/twitter/data/World_171117_205234.txt.gz \t Output: /media/abiricz/Elements/twitter/filtered/World_171117_205234_filtered.txt.gz\n",
      "CPU times: user 1.74 s, sys: 0 ns, total: 1.74 s\n",
      "Wall time: 1.82 s\n",
      "Currently working on: World_171117_205801.txt.gz\n",
      "Input: /media/abiricz/Elements/twitter/data/World_171117_205801.txt.gz \t Output: /media/abiricz/Elements/twitter/filtered/World_171117_205801_filtered.txt.gz\n",
      "CPU times: user 8.62 s, sys: 35.9 ms, total: 8.65 s\n",
      "Wall time: 8.99 s\n",
      "Currently working on: World_171117_212515.txt.gz\n",
      "Input: /media/abiricz/Elements/twitter/data/World_171117_212515.txt.gz \t Output: /media/abiricz/Elements/twitter/filtered/World_171117_212515_filtered.txt.gz\n",
      "CPU times: user 7min 23s, sys: 1.78 s, total: 7min 24s\n",
      "Wall time: 7min 34s\n",
      "Currently working on: World_171118_212515.txt.gz\n",
      "Input: /media/abiricz/Elements/twitter/data/World_171118_212515.txt.gz \t Output: /media/abiricz/Elements/twitter/filtered/World_171118_212515_filtered.txt.gz\n",
      "CPU times: user 7min 26s, sys: 1.78 s, total: 7min 28s\n",
      "Wall time: 7min 37s\n",
      "Currently working on: World_171119_212515.txt.gz\n",
      "Input: /media/abiricz/Elements/twitter/data/World_171119_212515.txt.gz \t Output: /media/abiricz/Elements/twitter/filtered/World_171119_212515_filtered.txt.gz\n",
      "CPU times: user 7min 41s, sys: 1.95 s, total: 7min 42s\n",
      "Wall time: 7min 52s\n",
      "Currently working on: World_171120_212515.txt.gz\n",
      "Input: /media/abiricz/Elements/twitter/data/World_171120_212515.txt.gz \t Output: /media/abiricz/Elements/twitter/filtered/World_171120_212515_filtered.txt.gz\n",
      "CPU times: user 5min 15s, sys: 1.3 s, total: 5min 16s\n",
      "Wall time: 5min 25s\n",
      "Currently working on: World_171121_153909.txt.gz\n",
      "Input: /media/abiricz/Elements/twitter/data/World_171121_153909.txt.gz \t Output: /media/abiricz/Elements/twitter/filtered/World_171121_153909_filtered.txt.gz\n",
      "CPU times: user 6min 47s, sys: 1.59 s, total: 6min 49s\n",
      "Wall time: 6min 59s\n",
      "Currently working on: World_171122_153909.txt.gz\n",
      "Input: /media/abiricz/Elements/twitter/data/World_171122_153909.txt.gz \t Output: /media/abiricz/Elements/twitter/filtered/World_171122_153909_filtered.txt.gz\n",
      "CPU times: user 11.4 s, sys: 56 ms, total: 11.4 s\n",
      "Wall time: 11.7 s\n",
      "Currently working on: World_171122_162254.txt.gz\n",
      "Input: /media/abiricz/Elements/twitter/data/World_171122_162254.txt.gz \t Output: /media/abiricz/Elements/twitter/filtered/World_171122_162254_filtered.txt.gz\n",
      "CPU times: user 8.91 s, sys: 32 ms, total: 8.94 s\n",
      "Wall time: 9.26 s\n",
      "Currently working on: World_171122_165659.txt.gz\n",
      "Input: /media/abiricz/Elements/twitter/data/World_171122_165659.txt.gz \t Output: /media/abiricz/Elements/twitter/filtered/World_171122_165659_filtered.txt.gz\n",
      "CPU times: user 6min 35s, sys: 1.44 s, total: 6min 37s\n",
      "Wall time: 6min 45s\n",
      "Currently working on: World_171123_165659.txt.gz\n",
      "Input: /media/abiricz/Elements/twitter/data/World_171123_165659.txt.gz \t Output: /media/abiricz/Elements/twitter/filtered/World_171123_165659_filtered.txt.gz\n",
      "CPU times: user 6min 29s, sys: 1.47 s, total: 6min 30s\n",
      "Wall time: 6min 38s\n",
      "Currently working on: World_171124_165659.txt.gz\n",
      "Input: /media/abiricz/Elements/twitter/data/World_171124_165659.txt.gz \t Output: /media/abiricz/Elements/twitter/filtered/World_171124_165659_filtered.txt.gz\n",
      "CPU times: user 6min 28s, sys: 1.33 s, total: 6min 29s\n",
      "Wall time: 6min 39s\n",
      "Currently working on: World_171125_165659.txt.gz\n",
      "Input: /media/abiricz/Elements/twitter/data/World_171125_165659.txt.gz \t Output: /media/abiricz/Elements/twitter/filtered/World_171125_165659_filtered.txt.gz\n",
      "CPU times: user 6min 23s, sys: 1.28 s, total: 6min 24s\n",
      "Wall time: 6min 33s\n",
      "Currently working on: World_171025_030255.txt.gz\n",
      "Input: /media/abiricz/Elements/twitter/data/World_171025_030255.txt.gz \t Output: /media/abiricz/Elements/twitter/filtered/World_171025_030255_filtered.txt.gz\n",
      "CPU times: user 10.8 s, sys: 40 ms, total: 10.8 s\n",
      "Wall time: 11 s\n",
      "Currently working on: World_171104_135932.txt.gz\n",
      "Input: /media/abiricz/Elements/twitter/data/World_171104_135932.txt.gz \t Output: /media/abiricz/Elements/twitter/filtered/World_171104_135932_filtered.txt.gz\n",
      "CPU times: user 6min 41s, sys: 1.59 s, total: 6min 43s\n",
      "Wall time: 6min 52s\n",
      "Currently working on: World_171116_003527.txt.gz\n",
      "Input: /media/abiricz/Elements/twitter/data/World_171116_003527.txt.gz \t Output: /media/abiricz/Elements/twitter/filtered/World_171116_003527_filtered.txt.gz\n",
      "CPU times: user 7min 13s, sys: 1.83 s, total: 7min 15s\n",
      "Wall time: 7min 24s\n",
      "Currently working on: World_171126_165659.txt.gz\n",
      "Input: /media/abiricz/Elements/twitter/data/World_171126_165659.txt.gz \t Output: /media/abiricz/Elements/twitter/filtered/World_171126_165659_filtered.txt.gz\n"
     ]
    },
    {
     "name": "stdout",
     "output_type": "stream",
     "text": [
      "CPU times: user 6min 30s, sys: 1.6 s, total: 6min 31s\n",
      "Wall time: 6min 41s\n",
      "Currently working on: World_171206_194509.txt.gz\n",
      "Input: /media/abiricz/Elements/twitter/data/World_171206_194509.txt.gz \t Output: /media/abiricz/Elements/twitter/filtered/World_171206_194509_filtered.txt.gz\n",
      "CPU times: user 60.2 ms, sys: 1e+03 ns, total: 60.2 ms\n",
      "Wall time: 105 ms\n",
      "Currently working on: World_171217_180727.txt.gz\n",
      "Input: /media/abiricz/Elements/twitter/data/World_171217_180727.txt.gz \t Output: /media/abiricz/Elements/twitter/filtered/World_171217_180727_filtered.txt.gz\n",
      "CPU times: user 6min 41s, sys: 1.61 s, total: 6min 43s\n",
      "Wall time: 6min 51s\n",
      "Currently working on: World_171228_234130.txt.gz\n",
      "Input: /media/abiricz/Elements/twitter/data/World_171228_234130.txt.gz \t Output: /media/abiricz/Elements/twitter/filtered/World_171228_234130_filtered.txt.gz\n",
      "CPU times: user 6min 49s, sys: 1.58 s, total: 6min 51s\n",
      "Wall time: 7min 2s\n",
      "Currently working on: World_180108_212729.txt.gz\n",
      "Input: /media/abiricz/Elements/twitter/data/World_180108_212729.txt.gz \t Output: /media/abiricz/Elements/twitter/filtered/World_180108_212729_filtered.txt.gz\n",
      "CPU times: user 3min 47s, sys: 884 ms, total: 3min 48s\n",
      "Wall time: 3min 53s\n",
      "Currently working on: World_180117_042834.txt.gz\n",
      "Input: /media/abiricz/Elements/twitter/data/World_180117_042834.txt.gz \t Output: /media/abiricz/Elements/twitter/filtered/World_180117_042834_filtered.txt.gz\n",
      "CPU times: user 54.1 s, sys: 148 ms, total: 54.2 s\n",
      "Wall time: 55.7 s\n",
      "Currently working on: World_180124_192020.txt.gz\n",
      "Input: /media/abiricz/Elements/twitter/data/World_180124_192020.txt.gz \t Output: /media/abiricz/Elements/twitter/filtered/World_180124_192020_filtered.txt.gz\n",
      "CPU times: user 6min 48s, sys: 1.68 s, total: 6min 50s\n",
      "Wall time: 7min\n",
      "Currently working on: World_180202_033253.txt.gz\n",
      "Input: /media/abiricz/Elements/twitter/data/World_180202_033253.txt.gz \t Output: /media/abiricz/Elements/twitter/filtered/World_180202_033253_filtered.txt.gz\n",
      "CPU times: user 21.5 ms, sys: 6 µs, total: 21.5 ms\n",
      "Wall time: 44 ms\n",
      "Currently working on: World_180202_033633.txt.gz\n",
      "Input: /media/abiricz/Elements/twitter/data/World_180202_033633.txt.gz \t Output: /media/abiricz/Elements/twitter/filtered/World_180202_033633_filtered.txt.gz\n",
      "CPU times: user 59.9 ms, sys: 0 ns, total: 59.9 ms\n",
      "Wall time: 99.6 ms\n",
      "Currently working on: World_180205_033857.txt.gz\n",
      "Input: /media/abiricz/Elements/twitter/data/World_180205_033857.txt.gz \t Output: /media/abiricz/Elements/twitter/filtered/World_180205_033857_filtered.txt.gz\n",
      "CPU times: user 4min 57s, sys: 1e+03 ms, total: 4min 58s\n",
      "Wall time: 5min 5s\n",
      "Currently working on: World_171127_165659.txt.gz\n",
      "Input: /media/abiricz/Elements/twitter/data/World_171127_165659.txt.gz \t Output: /media/abiricz/Elements/twitter/filtered/World_171127_165659_filtered.txt.gz\n",
      "CPU times: user 6min 21s, sys: 1.18 s, total: 6min 22s\n",
      "Wall time: 6min 31s\n",
      "Currently working on: World_171128_165659.txt.gz\n",
      "Input: /media/abiricz/Elements/twitter/data/World_171128_165659.txt.gz \t Output: /media/abiricz/Elements/twitter/filtered/World_171128_165659_filtered.txt.gz\n",
      "CPU times: user 6min 30s, sys: 1.3 s, total: 6min 32s\n",
      "Wall time: 6min 40s\n",
      "Currently working on: World_171129_165659.txt.gz\n",
      "Input: /media/abiricz/Elements/twitter/data/World_171129_165659.txt.gz \t Output: /media/abiricz/Elements/twitter/filtered/World_171129_165659_filtered.txt.gz\n",
      "CPU times: user 7min 2s, sys: 1.79 s, total: 7min 4s\n",
      "Wall time: 7min 12s\n",
      "Currently working on: World_171130_165659.txt.gz\n",
      "Input: /media/abiricz/Elements/twitter/data/World_171130_165659.txt.gz \t Output: /media/abiricz/Elements/twitter/filtered/World_171130_165659_filtered.txt.gz\n",
      "CPU times: user 7min 33s, sys: 2.07 s, total: 7min 35s\n",
      "Wall time: 7min 43s\n",
      "Currently working on: World_171201_165659.txt.gz\n",
      "Input: /media/abiricz/Elements/twitter/data/World_171201_165659.txt.gz \t Output: /media/abiricz/Elements/twitter/filtered/World_171201_165659_filtered.txt.gz\n",
      "CPU times: user 7min 44s, sys: 2.36 s, total: 7min 46s\n",
      "Wall time: 7min 55s\n",
      "Currently working on: World_171202_165659.txt.gz\n",
      "Input: /media/abiricz/Elements/twitter/data/World_171202_165659.txt.gz \t Output: /media/abiricz/Elements/twitter/filtered/World_171202_165659_filtered.txt.gz\n",
      "CPU times: user 7min 33s, sys: 2.01 s, total: 7min 35s\n",
      "Wall time: 7min 44s\n",
      "Currently working on: World_171203_165659.txt.gz\n",
      "Input: /media/abiricz/Elements/twitter/data/World_171203_165659.txt.gz \t Output: /media/abiricz/Elements/twitter/filtered/World_171203_165659_filtered.txt.gz\n",
      "CPU times: user 6min 53s, sys: 1.57 s, total: 6min 55s\n",
      "Wall time: 7min 2s\n",
      "Currently working on: World_171204_165659.txt.gz\n",
      "Input: /media/abiricz/Elements/twitter/data/World_171204_165659.txt.gz \t Output: /media/abiricz/Elements/twitter/filtered/World_171204_165659_filtered.txt.gz\n",
      "CPU times: user 1min 9s, sys: 188 ms, total: 1min 9s\n",
      "Wall time: 1min 10s\n",
      "Currently working on: World_171204_205121.txt.gz\n",
      "Input: /media/abiricz/Elements/twitter/data/World_171204_205121.txt.gz \t Output: /media/abiricz/Elements/twitter/filtered/World_171204_205121_filtered.txt.gz\n",
      "CPU times: user 920 ms, sys: 4.02 ms, total: 924 ms\n",
      "Wall time: 986 ms\n",
      "Currently working on: World_171204_205435.txt.gz\n",
      "Input: /media/abiricz/Elements/twitter/data/World_171204_205435.txt.gz \t Output: /media/abiricz/Elements/twitter/filtered/World_171204_205435_filtered.txt.gz\n",
      "CPU times: user 56.8 s, sys: 180 ms, total: 56.9 s\n",
      "Wall time: 58 s\n",
      "Currently working on: World_171205_000737.txt.gz\n",
      "Input: /media/abiricz/Elements/twitter/data/World_171205_000737.txt.gz \t Output: /media/abiricz/Elements/twitter/filtered/World_171205_000737_filtered.txt.gz\n",
      "CPU times: user 6min 29s, sys: 1.27 s, total: 6min 30s\n",
      "Wall time: 6min 37s\n",
      "Currently working on: World_171206_000737.txt.gz\n",
      "Input: /media/abiricz/Elements/twitter/data/World_171206_000737.txt.gz \t Output: /media/abiricz/Elements/twitter/filtered/World_171206_000737_filtered.txt.gz\n",
      "CPU times: user 5min 8s, sys: 1.07 s, total: 5min 9s\n",
      "Wall time: 5min 14s\n",
      "Currently working on: World_171206_194456.txt.gz\n",
      "Input: /media/abiricz/Elements/twitter/data/World_171206_194456.txt.gz \t Output: /media/abiricz/Elements/twitter/filtered/World_171206_194456_filtered.txt.gz\n",
      "CPU times: user 22 ms, sys: 0 ns, total: 22 ms\n",
      "Wall time: 45.3 ms\n",
      "Currently working on: World_171206_194500.txt.gz\n",
      "Input: /media/abiricz/Elements/twitter/data/World_171206_194500.txt.gz \t Output: /media/abiricz/Elements/twitter/filtered/World_171206_194500_filtered.txt.gz\n",
      "CPU times: user 41 ms, sys: 14 µs, total: 41 ms\n",
      "Wall time: 45.8 ms\n",
      "Currently working on: World_171206_194527.txt.gz\n",
      "Input: /media/abiricz/Elements/twitter/data/World_171206_194527.txt.gz \t Output: /media/abiricz/Elements/twitter/filtered/World_171206_194527_filtered.txt.gz\n",
      "CPU times: user 1.82 s, sys: 3.97 ms, total: 1.83 s\n",
      "Wall time: 1.95 s\n",
      "Currently working on: World_171206_195124.txt.gz\n",
      "Input: /media/abiricz/Elements/twitter/data/World_171206_195124.txt.gz \t Output: /media/abiricz/Elements/twitter/filtered/World_171206_195124_filtered.txt.gz\n",
      "CPU times: user 27.2 s, sys: 76.1 ms, total: 27.3 s\n",
      "Wall time: 28 s\n",
      "Currently working on: World_171206_212132.txt.gz\n",
      "Input: /media/abiricz/Elements/twitter/data/World_171206_212132.txt.gz \t Output: /media/abiricz/Elements/twitter/filtered/World_171206_212132_filtered.txt.gz\n",
      "CPU times: user 6min 27s, sys: 1.38 s, total: 6min 29s\n",
      "Wall time: 6min 37s\n",
      "Currently working on: World_171207_212132.txt.gz\n",
      "Input: /media/abiricz/Elements/twitter/data/World_171207_212132.txt.gz \t Output: /media/abiricz/Elements/twitter/filtered/World_171207_212132_filtered.txt.gz\n",
      "CPU times: user 2min 1s, sys: 424 ms, total: 2min 2s\n",
      "Wall time: 2min 4s\n",
      "Currently working on: World_171208_035853.txt.gz\n",
      "Input: /media/abiricz/Elements/twitter/data/World_171208_035853.txt.gz \t Output: /media/abiricz/Elements/twitter/filtered/World_171208_035853_filtered.txt.gz\n",
      "CPU times: user 6min 35s, sys: 1.46 s, total: 6min 36s\n",
      "Wall time: 6min 43s\n",
      "Currently working on: World_171209_035853.txt.gz\n",
      "Input: /media/abiricz/Elements/twitter/data/World_171209_035853.txt.gz \t Output: /media/abiricz/Elements/twitter/filtered/World_171209_035853_filtered.txt.gz\n",
      "CPU times: user 6min 17s, sys: 1.23 s, total: 6min 18s\n",
      "Wall time: 6min 26s\n",
      "Currently working on: World_171210_035853.txt.gz\n",
      "Input: /media/abiricz/Elements/twitter/data/World_171210_035853.txt.gz \t Output: /media/abiricz/Elements/twitter/filtered/World_171210_035853_filtered.txt.gz\n"
     ]
    },
    {
     "name": "stdout",
     "output_type": "stream",
     "text": [
      "CPU times: user 6min 25s, sys: 1.26 s, total: 6min 26s\n",
      "Wall time: 6min 33s\n",
      "Currently working on: World_171211_035853.txt.gz\n",
      "Input: /media/abiricz/Elements/twitter/data/World_171211_035853.txt.gz \t Output: /media/abiricz/Elements/twitter/filtered/World_171211_035853_filtered.txt.gz\n",
      "CPU times: user 4min 42s, sys: 820 ms, total: 4min 43s\n",
      "Wall time: 4min 48s\n",
      "Currently working on: World_171211_220154.txt.gz\n",
      "Input: /media/abiricz/Elements/twitter/data/World_171211_220154.txt.gz \t Output: /media/abiricz/Elements/twitter/filtered/World_171211_220154_filtered.txt.gz\n",
      "CPU times: user 5min 16s, sys: 1.01 s, total: 5min 17s\n",
      "Wall time: 5min 24s\n",
      "Currently working on: World_171212_180727.txt.gz\n",
      "Input: /media/abiricz/Elements/twitter/data/World_171212_180727.txt.gz \t Output: /media/abiricz/Elements/twitter/filtered/World_171212_180727_filtered.txt.gz\n",
      "CPU times: user 6min 32s, sys: 1.25 s, total: 6min 33s\n",
      "Wall time: 6min 43s\n",
      "Currently working on: World_171213_180727.txt.gz\n",
      "Input: /media/abiricz/Elements/twitter/data/World_171213_180727.txt.gz \t Output: /media/abiricz/Elements/twitter/filtered/World_171213_180727_filtered.txt.gz\n",
      "CPU times: user 6min 28s, sys: 1.37 s, total: 6min 29s\n",
      "Wall time: 6min 36s\n",
      "Currently working on: World_171214_180727.txt.gz\n",
      "Input: /media/abiricz/Elements/twitter/data/World_171214_180727.txt.gz \t Output: /media/abiricz/Elements/twitter/filtered/World_171214_180727_filtered.txt.gz\n",
      "CPU times: user 6min 32s, sys: 1.28 s, total: 6min 33s\n",
      "Wall time: 6min 41s\n",
      "Currently working on: World_171215_180727.txt.gz\n",
      "Input: /media/abiricz/Elements/twitter/data/World_171215_180727.txt.gz \t Output: /media/abiricz/Elements/twitter/filtered/World_171215_180727_filtered.txt.gz\n",
      "CPU times: user 6min 24s, sys: 1.42 s, total: 6min 26s\n",
      "Wall time: 6min 33s\n",
      "Currently working on: World_171216_180727.txt.gz\n",
      "Input: /media/abiricz/Elements/twitter/data/World_171216_180727.txt.gz \t Output: /media/abiricz/Elements/twitter/filtered/World_171216_180727_filtered.txt.gz\n",
      "CPU times: user 6min 19s, sys: 1.23 s, total: 6min 20s\n",
      "Wall time: 6min 27s\n",
      "Currently working on: World_171218_180727.txt.gz\n",
      "Input: /media/abiricz/Elements/twitter/data/World_171218_180727.txt.gz \t Output: /media/abiricz/Elements/twitter/filtered/World_171218_180727_filtered.txt.gz\n",
      "CPU times: user 6min 31s, sys: 1.23 s, total: 6min 32s\n",
      "Wall time: 6min 38s\n",
      "Currently working on: World_171219_180727.txt.gz\n",
      "Input: /media/abiricz/Elements/twitter/data/World_171219_180727.txt.gz \t Output: /media/abiricz/Elements/twitter/filtered/World_171219_180727_filtered.txt.gz\n",
      "CPU times: user 1min 28s, sys: 380 ms, total: 1min 28s\n",
      "Wall time: 1min 30s\n",
      "Currently working on: World_171219_230944.txt.gz\n",
      "Input: /media/abiricz/Elements/twitter/data/World_171219_230944.txt.gz \t Output: /media/abiricz/Elements/twitter/filtered/World_171219_230944_filtered.txt.gz\n",
      "CPU times: user 2.18 s, sys: 3.99 ms, total: 2.18 s\n",
      "Wall time: 2.19 s\n",
      "Currently working on: World_171219_231714.txt.gz\n",
      "Input: /media/abiricz/Elements/twitter/data/World_171219_231714.txt.gz \t Output: /media/abiricz/Elements/twitter/filtered/World_171219_231714_filtered.txt.gz\n",
      "CPU times: user 6.41 s, sys: 16 ms, total: 6.42 s\n",
      "Wall time: 6.5 s\n",
      "Currently working on: World_171219_233914.txt.gz\n",
      "Input: /media/abiricz/Elements/twitter/data/World_171219_233914.txt.gz \t Output: /media/abiricz/Elements/twitter/filtered/World_171219_233914_filtered.txt.gz\n",
      "CPU times: user 636 ms, sys: 8 ms, total: 643 ms\n",
      "Wall time: 656 ms\n",
      "Currently working on: World_171219_234130.txt.gz\n",
      "Input: /media/abiricz/Elements/twitter/data/World_171219_234130.txt.gz \t Output: /media/abiricz/Elements/twitter/filtered/World_171219_234130_filtered.txt.gz\n",
      "CPU times: user 6min 31s, sys: 1.31 s, total: 6min 33s\n",
      "Wall time: 6min 40s\n",
      "Currently working on: World_171220_234130.txt.gz\n",
      "Input: /media/abiricz/Elements/twitter/data/World_171220_234130.txt.gz \t Output: /media/abiricz/Elements/twitter/filtered/World_171220_234130_filtered.txt.gz\n",
      "CPU times: user 6min 32s, sys: 1.19 s, total: 6min 33s\n",
      "Wall time: 6min 39s\n",
      "Currently working on: World_171221_234130.txt.gz\n",
      "Input: /media/abiricz/Elements/twitter/data/World_171221_234130.txt.gz \t Output: /media/abiricz/Elements/twitter/filtered/World_171221_234130_filtered.txt.gz\n",
      "CPU times: user 6min 31s, sys: 1.22 s, total: 6min 33s\n",
      "Wall time: 6min 38s\n",
      "Currently working on: World_171222_234130.txt.gz\n",
      "Input: /media/abiricz/Elements/twitter/data/World_171222_234130.txt.gz \t Output: /media/abiricz/Elements/twitter/filtered/World_171222_234130_filtered.txt.gz\n",
      "CPU times: user 6min 25s, sys: 1.39 s, total: 6min 26s\n",
      "Wall time: 6min 32s\n",
      "Currently working on: World_171223_234130.txt.gz\n",
      "Input: /media/abiricz/Elements/twitter/data/World_171223_234130.txt.gz \t Output: /media/abiricz/Elements/twitter/filtered/World_171223_234130_filtered.txt.gz\n",
      "CPU times: user 6min 26s, sys: 1.18 s, total: 6min 27s\n",
      "Wall time: 6min 33s\n",
      "Currently working on: World_171224_234130.txt.gz\n",
      "Input: /media/abiricz/Elements/twitter/data/World_171224_234130.txt.gz \t Output: /media/abiricz/Elements/twitter/filtered/World_171224_234130_filtered.txt.gz\n",
      "CPU times: user 6min 23s, sys: 1.14 s, total: 6min 24s\n",
      "Wall time: 6min 30s\n",
      "Currently working on: World_171225_234130.txt.gz\n",
      "Input: /media/abiricz/Elements/twitter/data/World_171225_234130.txt.gz \t Output: /media/abiricz/Elements/twitter/filtered/World_171225_234130_filtered.txt.gz\n",
      "CPU times: user 6min 8s, sys: 1.22 s, total: 6min 9s\n",
      "Wall time: 6min 14s\n",
      "Currently working on: World_171226_234130.txt.gz\n",
      "Input: /media/abiricz/Elements/twitter/data/World_171226_234130.txt.gz \t Output: /media/abiricz/Elements/twitter/filtered/World_171226_234130_filtered.txt.gz\n",
      "CPU times: user 6min 21s, sys: 1.1 s, total: 6min 22s\n",
      "Wall time: 6min 27s\n",
      "Currently working on: World_171227_234130.txt.gz\n",
      "Input: /media/abiricz/Elements/twitter/data/World_171227_234130.txt.gz \t Output: /media/abiricz/Elements/twitter/filtered/World_171227_234130_filtered.txt.gz\n",
      "CPU times: user 6min 28s, sys: 1.19 s, total: 6min 29s\n",
      "Wall time: 6min 35s\n",
      "Currently working on: World_171229_234130.txt.gz\n",
      "Input: /media/abiricz/Elements/twitter/data/World_171229_234130.txt.gz \t Output: /media/abiricz/Elements/twitter/filtered/World_171229_234130_filtered.txt.gz\n",
      "CPU times: user 6min 25s, sys: 1.3 s, total: 6min 26s\n",
      "Wall time: 6min 32s\n",
      "Currently working on: World_171230_234130.txt.gz\n",
      "Input: /media/abiricz/Elements/twitter/data/World_171230_234130.txt.gz \t Output: /media/abiricz/Elements/twitter/filtered/World_171230_234130_filtered.txt.gz\n",
      "CPU times: user 6min 37s, sys: 1.34 s, total: 6min 38s\n",
      "Wall time: 6min 44s\n",
      "Currently working on: World_171231_234130.txt.gz\n",
      "Input: /media/abiricz/Elements/twitter/data/World_171231_234130.txt.gz \t Output: /media/abiricz/Elements/twitter/filtered/World_171231_234130_filtered.txt.gz\n",
      "CPU times: user 6min 28s, sys: 1.31 s, total: 6min 29s\n",
      "Wall time: 6min 36s\n",
      "Currently working on: World_180101_234130.txt.gz\n",
      "Input: /media/abiricz/Elements/twitter/data/World_180101_234130.txt.gz \t Output: /media/abiricz/Elements/twitter/filtered/World_180101_234130_filtered.txt.gz\n",
      "CPU times: user 6min 24s, sys: 1.12 s, total: 6min 25s\n",
      "Wall time: 6min 32s\n",
      "Currently working on: World_180102_234130.txt.gz\n",
      "Input: /media/abiricz/Elements/twitter/data/World_180102_234130.txt.gz \t Output: /media/abiricz/Elements/twitter/filtered/World_180102_234130_filtered.txt.gz\n",
      "CPU times: user 6min 34s, sys: 1.3 s, total: 6min 36s\n",
      "Wall time: 6min 42s\n",
      "Currently working on: World_180103_234130.txt.gz\n",
      "Input: /media/abiricz/Elements/twitter/data/World_180103_234130.txt.gz \t Output: /media/abiricz/Elements/twitter/filtered/World_180103_234130_filtered.txt.gz\n",
      "CPU times: user 6min 29s, sys: 1.19 s, total: 6min 31s\n",
      "Wall time: 6min 35s\n",
      "Currently working on: World_180104_234130.txt.gz\n",
      "Input: /media/abiricz/Elements/twitter/data/World_180104_234130.txt.gz \t Output: /media/abiricz/Elements/twitter/filtered/World_180104_234130_filtered.txt.gz\n",
      "CPU times: user 1min, sys: 212 ms, total: 1min\n",
      "Wall time: 1min 1s\n",
      "Currently working on: World_180105_031543.txt.gz\n",
      "Input: /media/abiricz/Elements/twitter/data/World_180105_031543.txt.gz \t Output: /media/abiricz/Elements/twitter/filtered/World_180105_031543_filtered.txt.gz\n",
      "CPU times: user 6min 24s, sys: 1.17 s, total: 6min 26s\n",
      "Wall time: 6min 28s\n",
      "Currently working on: World_180106_031543.txt.gz\n",
      "Input: /media/abiricz/Elements/twitter/data/World_180106_031543.txt.gz \t Output: /media/abiricz/Elements/twitter/filtered/World_180106_031543_filtered.txt.gz\n"
     ]
    },
    {
     "name": "stdout",
     "output_type": "stream",
     "text": [
      "CPU times: user 6min 21s, sys: 1.13 s, total: 6min 22s\n",
      "Wall time: 6min 24s\n",
      "Currently working on: World_180107_031543.txt.gz\n",
      "Input: /media/abiricz/Elements/twitter/data/World_180107_031543.txt.gz \t Output: /media/abiricz/Elements/twitter/filtered/World_180107_031543_filtered.txt.gz\n",
      "CPU times: user 6min 20s, sys: 1.15 s, total: 6min 21s\n",
      "Wall time: 6min 23s\n",
      "Currently working on: World_180108_031543.txt.gz\n",
      "Input: /media/abiricz/Elements/twitter/data/World_180108_031543.txt.gz \t Output: /media/abiricz/Elements/twitter/filtered/World_180108_031543_filtered.txt.gz\n",
      "CPU times: user 4min 19s, sys: 792 ms, total: 4min 19s\n",
      "Wall time: 4min 21s\n",
      "Currently working on: World_180108_200909.txt.gz\n",
      "Input: /media/abiricz/Elements/twitter/data/World_180108_200909.txt.gz \t Output: /media/abiricz/Elements/twitter/filtered/World_180108_200909_filtered.txt.gz\n",
      "CPU times: user 19.7 s, sys: 68 ms, total: 19.8 s\n",
      "Wall time: 20 s\n",
      "Currently working on: World_180108_211744.txt.gz\n",
      "Input: /media/abiricz/Elements/twitter/data/World_180108_211744.txt.gz \t Output: /media/abiricz/Elements/twitter/filtered/World_180108_211744_filtered.txt.gz\n",
      "CPU times: user 2.09 s, sys: 8.01 ms, total: 2.1 s\n",
      "Wall time: 2.12 s\n",
      "Currently working on: World_180108_212454.txt.gz\n",
      "Input: /media/abiricz/Elements/twitter/data/World_180108_212454.txt.gz \t Output: /media/abiricz/Elements/twitter/filtered/World_180108_212454_filtered.txt.gz\n",
      "CPU times: user 744 ms, sys: 0 ns, total: 744 ms\n",
      "Wall time: 762 ms\n",
      "Currently working on: World_180109_113619.txt.gz\n",
      "Input: /media/abiricz/Elements/twitter/data/World_180109_113619.txt.gz \t Output: /media/abiricz/Elements/twitter/filtered/World_180109_113619_filtered.txt.gz\n",
      "CPU times: user 3min 41s, sys: 652 ms, total: 3min 42s\n",
      "Wall time: 3min 43s\n",
      "Currently working on: World_180110_010546.txt.gz\n",
      "Input: /media/abiricz/Elements/twitter/data/World_180110_010546.txt.gz \t Output: /media/abiricz/Elements/twitter/filtered/World_180110_010546_filtered.txt.gz\n",
      "CPU times: user 6min 18s, sys: 1.16 s, total: 6min 19s\n",
      "Wall time: 6min 21s\n",
      "Currently working on: World_180111_010546.txt.gz\n",
      "Input: /media/abiricz/Elements/twitter/data/World_180111_010546.txt.gz \t Output: /media/abiricz/Elements/twitter/filtered/World_180111_010546_filtered.txt.gz\n",
      "CPU times: user 2min, sys: 324 ms, total: 2min\n",
      "Wall time: 2min 1s\n",
      "Currently working on: World_180111_085418.txt.gz\n",
      "Input: /media/abiricz/Elements/twitter/data/World_180111_085418.txt.gz \t Output: /media/abiricz/Elements/twitter/filtered/World_180111_085418_filtered.txt.gz\n",
      "CPU times: user 2min 28s, sys: 416 ms, total: 2min 29s\n",
      "Wall time: 2min 29s\n",
      "Currently working on: World_180111_184241.txt.gz\n",
      "Input: /media/abiricz/Elements/twitter/data/World_180111_184241.txt.gz \t Output: /media/abiricz/Elements/twitter/filtered/World_180111_184241_filtered.txt.gz\n",
      "CPU times: user 1.34 s, sys: 4.05 ms, total: 1.35 s\n",
      "Wall time: 1.37 s\n",
      "CPU times: user 7h 34min 25s, sys: 1min 36s, total: 7h 36min 2s\n",
      "Wall time: 7h 44min 17s\n"
     ]
    }
   ],
   "source": [
    "%%time\n",
    "for i in dir_files[a:b]:\n",
    "    print('Currently working on:', i)\n",
    "    %time do_filtering( dir_path+i, target_path+i[:-7]+'_filtered.txt.gz' )"
   ]
  },
  {
   "cell_type": "code",
   "execution_count": null,
   "metadata": {},
   "outputs": [],
   "source": []
  }
 ],
 "metadata": {
  "kernelspec": {
   "display_name": "Python 3",
   "language": "python",
   "name": "python3"
  },
  "language_info": {
   "codemirror_mode": {
    "name": "ipython",
    "version": 3
   },
   "file_extension": ".py",
   "mimetype": "text/x-python",
   "name": "python",
   "nbconvert_exporter": "python",
   "pygments_lexer": "ipython3",
   "version": "3.6.7"
  }
 },
 "nbformat": 4,
 "nbformat_minor": 2
}
